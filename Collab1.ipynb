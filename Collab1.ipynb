{
  "nbformat": 4,
  "nbformat_minor": 0,
  "metadata": {
    "colab": {
      "provenance": []
    },
    "kernelspec": {
      "name": "python3",
      "display_name": "Python 3"
    },
    "language_info": {
      "name": "python"
    }
  },
  "cells": [
    {
      "cell_type": "code",
      "source": [
        "import cv2\n",
        "import numpy as np #going to be used extensively for array operations\n",
        "import os #helps with filepaths\n",
        "from matplotlib import pyplot as plt\n",
        "import time #to provide sleep times between frames being captured\n",
        "#import mediapipe as mp#for all the keypoints and hand detection going to be used to train our model"
      ],
      "metadata": {
        "id": "s5CCTnqKMIpO"
      },
      "execution_count": 12,
      "outputs": []
    },
    {
      "cell_type": "code",
      "source": [
        "actions = np.array(['hello', 'thanks', 'iloveyou'])\n",
        "\n",
        "#number of videos we want to record for each action\n",
        "no_sequences = 30 #number of sequences for each action\n",
        "\n",
        "#number of frames for each video\n",
        "sequence_length = 30 #number of frames in each sequence"
      ],
      "metadata": {
        "id": "i3-tJjqRFZpe"
      },
      "execution_count": 13,
      "outputs": []
    },
    {
      "cell_type": "markdown",
      "source": [
        "# New Section"
      ],
      "metadata": {
        "id": "NsXzydLhFcek"
      }
    },
    {
      "cell_type": "code",
      "source": [
        "from google.colab import drive\n",
        "drive.mount('/content/drive')\n"
      ],
      "metadata": {
        "colab": {
          "base_uri": "https://localhost:8080/"
        },
        "id": "g1t6mitJF3g1",
        "outputId": "8ff69679-39b1-424a-ed80-a96bb4df6676"
      },
      "execution_count": 2,
      "outputs": [
        {
          "output_type": "stream",
          "name": "stdout",
          "text": [
            "Mounted at /content/drive\n"
          ]
        }
      ]
    },
    {
      "cell_type": "code",
      "source": [
        "from zipfile import ZipFile"
      ],
      "metadata": {
        "id": "MpylzjiPJXRZ"
      },
      "execution_count": 7,
      "outputs": []
    },
    {
      "cell_type": "code",
      "source": [
        "with ZipFile('drive/MyDrive/Neural_Networks/MP_Data.zip','r') as zipObj:\n",
        "  zipObj.extractall('drive/MyDrive/Neural_Networks')"
      ],
      "metadata": {
        "id": "deDPoedaK0b9"
      },
      "execution_count": 9,
      "outputs": []
    },
    {
      "cell_type": "code",
      "execution_count": 1,
      "metadata": {
        "id": "gvEHGXq_spOj"
      },
      "outputs": [],
      "source": [
        "from sklearn.model_selection import train_test_split\n",
        "from tensorflow.keras.utils import to_categorical"
      ]
    },
    {
      "cell_type": "code",
      "source": [
        "label_map = {label:num for num, label in enumerate(actions)}"
      ],
      "metadata": {
        "id": "i6IofScdEZPP"
      },
      "execution_count": 14,
      "outputs": []
    },
    {
      "cell_type": "code",
      "source": [
        "label_map"
      ],
      "metadata": {
        "colab": {
          "base_uri": "https://localhost:8080/"
        },
        "id": "7AuCihBsEa_-",
        "outputId": "b6d49530-56eb-40af-d2c8-77bd7f2ea0ba"
      },
      "execution_count": 15,
      "outputs": [
        {
          "output_type": "execute_result",
          "data": {
            "text/plain": [
              "{'hello': 0, 'thanks': 1, 'iloveyou': 2}"
            ]
          },
          "metadata": {},
          "execution_count": 15
        }
      ]
    },
    {
      "cell_type": "code",
      "source": [
        "DATA_PATH = os.path.join('drive/MyDrive/Neural_Networks/MP_Data')\n",
        "sequences, labels = [], []\n",
        "for action in actions:\n",
        "    for sequence in np.array(os.listdir(os.path.join(DATA_PATH, action))).astype(int):\n",
        "        window = []\n",
        "        for frame_num in range(sequence_length):\n",
        "            res = np.load(os.path.join(DATA_PATH, action, str(sequence), \"{}.npy\".format(frame_num)))\n",
        "            window.append(res)\n",
        "        sequences.append(window)\n",
        "        labels.append(label_map[action])\n",
        "#sequences are eventually our features and labels is our labels itself like hello iloveu and "
      ],
      "metadata": {
        "id": "ywdINi1VEfdF"
      },
      "execution_count": 17,
      "outputs": []
    },
    {
      "cell_type": "code",
      "source": [
        "np.array(sequences).shape"
      ],
      "metadata": {
        "colab": {
          "base_uri": "https://localhost:8080/"
        },
        "id": "-jPa7qWIEgfB",
        "outputId": "f07e3401-defc-470c-bc9e-73bc42f408cb"
      },
      "execution_count": 18,
      "outputs": [
        {
          "output_type": "execute_result",
          "data": {
            "text/plain": [
              "(90, 30, 1662)"
            ]
          },
          "metadata": {},
          "execution_count": 18
        }
      ]
    },
    {
      "cell_type": "code",
      "source": [
        "np.array(labels).shape"
      ],
      "metadata": {
        "colab": {
          "base_uri": "https://localhost:8080/"
        },
        "id": "tcVxtTAPEifq",
        "outputId": "bb9a1f58-b0de-4590-84ab-1a4adf2afc2d"
      },
      "execution_count": 19,
      "outputs": [
        {
          "output_type": "execute_result",
          "data": {
            "text/plain": [
              "(90,)"
            ]
          },
          "metadata": {},
          "execution_count": 19
        }
      ]
    },
    {
      "cell_type": "code",
      "source": [
        "y = to_categorical(labels).astype(int)"
      ],
      "metadata": {
        "id": "JvF5tQ5uEkrQ"
      },
      "execution_count": 20,
      "outputs": []
    },
    {
      "cell_type": "code",
      "source": [
        "x = np.array(sequences)\n",
        "x.shape"
      ],
      "metadata": {
        "colab": {
          "base_uri": "https://localhost:8080/"
        },
        "id": "vuyPBkYGM26f",
        "outputId": "ba9dbe19-caf3-40d0-fca4-6595dd9eb27d"
      },
      "execution_count": 22,
      "outputs": [
        {
          "output_type": "execute_result",
          "data": {
            "text/plain": [
              "(90, 30, 1662)"
            ]
          },
          "metadata": {},
          "execution_count": 22
        }
      ]
    },
    {
      "cell_type": "code",
      "source": [
        "x_train, x_test, y_train, y_test = train_test_split(x, y, test_size=0.05)\n",
        "#train_test_split is a function that helps us in segregating the data\n",
        "#splitting the training and testing values\n",
        "#our testing data has been made as 5% of the values(0.05)"
      ],
      "metadata": {
        "id": "bl4rFi8rEt8W"
      },
      "execution_count": 30,
      "outputs": []
    },
    {
      "cell_type": "code",
      "source": [
        "y_train.shape"
      ],
      "metadata": {
        "colab": {
          "base_uri": "https://localhost:8080/"
        },
        "id": "tkiMUDbxEyz8",
        "outputId": "f12888be-d32c-4dab-b9f0-a8af7d8bb943"
      },
      "execution_count": 32,
      "outputs": [
        {
          "output_type": "execute_result",
          "data": {
            "text/plain": [
              "(85, 3)"
            ]
          },
          "metadata": {},
          "execution_count": 32
        }
      ]
    },
    {
      "cell_type": "code",
      "source": [
        "from tensorflow.keras.models import Sequential #allows us to build a sequential NN\n",
        "from tensorflow.keras.layers import LSTM, Dense #gives us a temporal components to build our neural network\n",
        "from tensorflow.keras.callbacks import TensorBoard #if we want to trace and monitor our neural network"
      ],
      "metadata": {
        "id": "oIEc_qfZQDP0"
      },
      "execution_count": 33,
      "outputs": []
    },
    {
      "cell_type": "code",
      "source": [
        "log_dir = os.path.join('Logs')\n",
        "tb_callback = TensorBoard(log_dir=log_dir)"
      ],
      "metadata": {
        "id": "bqHafT0qQ12V"
      },
      "execution_count": 34,
      "outputs": []
    },
    {
      "cell_type": "code",
      "source": [
        "model = Sequential() #we can add layers to our neural network using this\n",
        "model.add(LSTM(64, return_sequences=True, activation='relu', input_shape=(30,1662))) #64 LSTM units\n",
        "model.add(LSTM(128, return_sequences=True, activation='relu')) #128 LSTM units\n",
        "model.add(LSTM(64, return_sequences=False, activation='relu')) #Since the next layer is a dense layer i have set return_sequences=False\n",
        "model.add(Dense(64, activation='relu')) #64 connected perceptrons\n",
        "model.add(Dense(32, activation='relu')) #32 \n",
        "model.add(Dense(actions.shape[0], activation='softmax'))"
      ],
      "metadata": {
        "id": "gbmk4K3HQ8TJ"
      },
      "execution_count": 59,
      "outputs": []
    },
    {
      "cell_type": "code",
      "source": [
        "res = [.7,0.2,0.1]\n",
        "#why LSTM + MEDIAPIPE over CNN+LSTM\n",
        "#Less data to produce a hyper accurate model\n",
        "#Much denser neural network ,way faster to train"
      ],
      "metadata": {
        "id": "VFRr1yrQTgZy"
      },
      "execution_count": 60,
      "outputs": []
    },
    {
      "cell_type": "code",
      "source": [
        "actions[np.argmax(res)]"
      ],
      "metadata": {
        "colab": {
          "base_uri": "https://localhost:8080/",
          "height": 35
        },
        "id": "Oi76WlUMT9pH",
        "outputId": "fab09a11-c097-4d69-9f54-fe73eb72dce4"
      },
      "execution_count": 61,
      "outputs": [
        {
          "output_type": "execute_result",
          "data": {
            "text/plain": [
              "'hello'"
            ],
            "application/vnd.google.colaboratory.intrinsic+json": {
              "type": "string"
            }
          },
          "metadata": {},
          "execution_count": 61
        }
      ]
    },
    {
      "cell_type": "code",
      "source": [
        "model.compile(optimizer='Adam', loss='categorical_crossentropy', metrics=['categorical_accuracy'])"
      ],
      "metadata": {
        "id": "dobZZZGGUqle"
      },
      "execution_count": 62,
      "outputs": []
    },
    {
      "cell_type": "code",
      "source": [
        "model.fit(x_train, y_train, epochs=500, callbacks=[tb_callback])"
      ],
      "metadata": {
        "colab": {
          "base_uri": "https://localhost:8080/",
          "height": 1000
        },
        "id": "ICJLe25EYGpy",
        "outputId": "7cb9096f-3d24-40bc-bfb8-f37f0ed34f1c"
      },
      "execution_count": 63,
      "outputs": [
        {
          "output_type": "stream",
          "name": "stdout",
          "text": [
            "Epoch 1/500\n",
            "3/3 [==============================] - 4s 128ms/step - loss: 1.1253 - categorical_accuracy: 0.3059\n",
            "Epoch 2/500\n",
            "3/3 [==============================] - 0s 134ms/step - loss: 1.1128 - categorical_accuracy: 0.3294\n",
            "Epoch 3/500\n",
            "3/3 [==============================] - 0s 127ms/step - loss: 1.0390 - categorical_accuracy: 0.6706\n",
            "Epoch 4/500\n",
            "3/3 [==============================] - 0s 127ms/step - loss: 1.0040 - categorical_accuracy: 0.5059\n",
            "Epoch 5/500\n",
            "3/3 [==============================] - 0s 146ms/step - loss: 0.8319 - categorical_accuracy: 0.6353\n",
            "Epoch 6/500\n",
            "3/3 [==============================] - 0s 122ms/step - loss: 0.8068 - categorical_accuracy: 0.6824\n",
            "Epoch 7/500\n",
            "3/3 [==============================] - 0s 129ms/step - loss: 0.5915 - categorical_accuracy: 0.6471\n",
            "Epoch 8/500\n",
            "3/3 [==============================] - 0s 128ms/step - loss: 3.1315 - categorical_accuracy: 0.6706\n",
            "Epoch 9/500\n",
            "3/3 [==============================] - 0s 125ms/step - loss: 0.9501 - categorical_accuracy: 0.5647\n",
            "Epoch 10/500\n",
            "3/3 [==============================] - 0s 134ms/step - loss: 0.9644 - categorical_accuracy: 0.5765\n",
            "Epoch 11/500\n",
            "3/3 [==============================] - 0s 125ms/step - loss: 1.3811 - categorical_accuracy: 0.6588\n",
            "Epoch 12/500\n",
            "3/3 [==============================] - 0s 128ms/step - loss: 1.6198 - categorical_accuracy: 0.4353\n",
            "Epoch 13/500\n",
            "3/3 [==============================] - 0s 126ms/step - loss: 0.8070 - categorical_accuracy: 0.6353\n",
            "Epoch 14/500\n",
            "3/3 [==============================] - 0s 125ms/step - loss: 0.7593 - categorical_accuracy: 0.7529\n",
            "Epoch 15/500\n",
            "3/3 [==============================] - 0s 132ms/step - loss: 0.6539 - categorical_accuracy: 0.7176\n",
            "Epoch 16/500\n",
            "3/3 [==============================] - 0s 123ms/step - loss: 0.7287 - categorical_accuracy: 0.7647\n",
            "Epoch 17/500\n",
            "3/3 [==============================] - 0s 128ms/step - loss: 0.5442 - categorical_accuracy: 0.8471\n",
            "Epoch 18/500\n",
            "3/3 [==============================] - 0s 126ms/step - loss: 0.5666 - categorical_accuracy: 0.8824\n",
            "Epoch 19/500\n",
            "3/3 [==============================] - 0s 125ms/step - loss: 0.4710 - categorical_accuracy: 0.8588\n",
            "Epoch 20/500\n",
            "3/3 [==============================] - 0s 136ms/step - loss: 0.3718 - categorical_accuracy: 0.8941\n",
            "Epoch 21/500\n",
            "3/3 [==============================] - 0s 123ms/step - loss: 0.4109 - categorical_accuracy: 0.8706\n",
            "Epoch 22/500\n",
            "3/3 [==============================] - 0s 128ms/step - loss: 0.4350 - categorical_accuracy: 0.8941\n",
            "Epoch 23/500\n",
            "3/3 [==============================] - 0s 133ms/step - loss: 0.6337 - categorical_accuracy: 0.8588\n",
            "Epoch 24/500\n",
            "3/3 [==============================] - 0s 129ms/step - loss: 0.4282 - categorical_accuracy: 0.9176\n",
            "Epoch 25/500\n",
            "3/3 [==============================] - 0s 127ms/step - loss: 0.6861 - categorical_accuracy: 0.6706\n",
            "Epoch 26/500\n",
            "3/3 [==============================] - 0s 123ms/step - loss: 0.7214 - categorical_accuracy: 0.8824\n",
            "Epoch 27/500\n",
            "3/3 [==============================] - 0s 129ms/step - loss: 0.4311 - categorical_accuracy: 0.9059\n",
            "Epoch 28/500\n",
            "3/3 [==============================] - 0s 136ms/step - loss: 0.4009 - categorical_accuracy: 0.9294\n",
            "Epoch 29/500\n",
            "3/3 [==============================] - 0s 133ms/step - loss: 0.3273 - categorical_accuracy: 0.9412\n",
            "Epoch 30/500\n",
            "3/3 [==============================] - 0s 127ms/step - loss: 0.3196 - categorical_accuracy: 0.9529\n",
            "Epoch 31/500\n",
            "3/3 [==============================] - 0s 125ms/step - loss: 0.2773 - categorical_accuracy: 0.9529\n",
            "Epoch 32/500\n",
            "3/3 [==============================] - 0s 127ms/step - loss: 0.2426 - categorical_accuracy: 0.9529\n",
            "Epoch 33/500\n",
            "3/3 [==============================] - 0s 137ms/step - loss: 0.2263 - categorical_accuracy: 0.9412\n",
            "Epoch 34/500\n",
            "3/3 [==============================] - 0s 128ms/step - loss: 0.2026 - categorical_accuracy: 0.9412\n",
            "Epoch 35/500\n",
            "3/3 [==============================] - 0s 128ms/step - loss: 0.1788 - categorical_accuracy: 0.9412\n",
            "Epoch 36/500\n",
            "3/3 [==============================] - 0s 124ms/step - loss: 0.1758 - categorical_accuracy: 0.9529\n",
            "Epoch 37/500\n",
            "3/3 [==============================] - 0s 129ms/step - loss: 0.1571 - categorical_accuracy: 0.9529\n",
            "Epoch 38/500\n",
            "3/3 [==============================] - 0s 133ms/step - loss: 0.1217 - categorical_accuracy: 0.9647\n",
            "Epoch 39/500\n",
            "3/3 [==============================] - 0s 125ms/step - loss: 0.1134 - categorical_accuracy: 0.9765\n",
            "Epoch 40/500\n",
            "3/3 [==============================] - 0s 127ms/step - loss: 0.1141 - categorical_accuracy: 0.9647\n",
            "Epoch 41/500\n",
            "3/3 [==============================] - 0s 141ms/step - loss: 0.1089 - categorical_accuracy: 0.9529\n",
            "Epoch 42/500\n",
            "3/3 [==============================] - 1s 135ms/step - loss: 0.1142 - categorical_accuracy: 0.9647\n",
            "Epoch 43/500\n",
            "3/3 [==============================] - 1s 211ms/step - loss: 0.0858 - categorical_accuracy: 0.9765\n",
            "Epoch 44/500\n",
            "3/3 [==============================] - 0s 133ms/step - loss: 0.0964 - categorical_accuracy: 0.9647\n",
            "Epoch 45/500\n",
            "3/3 [==============================] - 0s 132ms/step - loss: 0.0810 - categorical_accuracy: 0.9882\n",
            "Epoch 46/500\n",
            "3/3 [==============================] - 0s 125ms/step - loss: 0.0860 - categorical_accuracy: 0.9647\n",
            "Epoch 47/500\n",
            "3/3 [==============================] - 0s 136ms/step - loss: 0.0810 - categorical_accuracy: 0.9765\n",
            "Epoch 48/500\n",
            "3/3 [==============================] - 0s 134ms/step - loss: 0.0982 - categorical_accuracy: 0.9647\n",
            "Epoch 49/500\n",
            "3/3 [==============================] - 0s 127ms/step - loss: 0.1119 - categorical_accuracy: 0.9529\n",
            "Epoch 50/500\n",
            "3/3 [==============================] - 0s 130ms/step - loss: 0.0597 - categorical_accuracy: 0.9882\n",
            "Epoch 51/500\n",
            "3/3 [==============================] - 0s 130ms/step - loss: 0.1626 - categorical_accuracy: 0.9529\n",
            "Epoch 52/500\n",
            "3/3 [==============================] - 0s 130ms/step - loss: 0.1008 - categorical_accuracy: 0.9647\n",
            "Epoch 53/500\n",
            "3/3 [==============================] - 0s 128ms/step - loss: 0.1650 - categorical_accuracy: 0.9412\n",
            "Epoch 54/500\n",
            "3/3 [==============================] - 0s 131ms/step - loss: 0.1628 - categorical_accuracy: 0.9765\n",
            "Epoch 55/500\n",
            "3/3 [==============================] - 0s 134ms/step - loss: 0.1178 - categorical_accuracy: 0.9647\n",
            "Epoch 56/500\n",
            "3/3 [==============================] - 0s 126ms/step - loss: 0.0857 - categorical_accuracy: 0.9647\n",
            "Epoch 57/500\n",
            "3/3 [==============================] - 0s 127ms/step - loss: 0.0845 - categorical_accuracy: 0.9765\n",
            "Epoch 58/500\n",
            "3/3 [==============================] - 0s 139ms/step - loss: 0.0937 - categorical_accuracy: 0.9765\n",
            "Epoch 59/500\n",
            "3/3 [==============================] - 0s 128ms/step - loss: 0.1042 - categorical_accuracy: 0.9765\n",
            "Epoch 60/500\n",
            "3/3 [==============================] - 0s 137ms/step - loss: 0.0868 - categorical_accuracy: 0.9647\n",
            "Epoch 61/500\n",
            "3/3 [==============================] - 0s 134ms/step - loss: 0.0785 - categorical_accuracy: 0.9765\n",
            "Epoch 62/500\n",
            "3/3 [==============================] - 0s 122ms/step - loss: 0.1143 - categorical_accuracy: 0.9647\n",
            "Epoch 63/500\n",
            "3/3 [==============================] - 0s 129ms/step - loss: 0.0991 - categorical_accuracy: 0.9647\n",
            "Epoch 64/500\n",
            "3/3 [==============================] - 0s 130ms/step - loss: 0.5181 - categorical_accuracy: 0.8235\n",
            "Epoch 65/500\n",
            "3/3 [==============================] - 0s 136ms/step - loss: 0.5049 - categorical_accuracy: 0.9176\n",
            "Epoch 66/500\n",
            "3/3 [==============================] - 0s 134ms/step - loss: 1.4343 - categorical_accuracy: 0.4353\n",
            "Epoch 67/500\n",
            "3/3 [==============================] - 0s 131ms/step - loss: 2.6279 - categorical_accuracy: 0.4471\n",
            "Epoch 68/500\n",
            "3/3 [==============================] - 0s 130ms/step - loss: 1.8597 - categorical_accuracy: 0.3412\n",
            "Epoch 69/500\n",
            "3/3 [==============================] - 0s 122ms/step - loss: 0.9996 - categorical_accuracy: 0.4471\n",
            "Epoch 70/500\n",
            "3/3 [==============================] - 0s 130ms/step - loss: 1.0775 - categorical_accuracy: 0.5412\n",
            "Epoch 71/500\n",
            "3/3 [==============================] - 0s 127ms/step - loss: 0.9288 - categorical_accuracy: 0.5765\n",
            "Epoch 72/500\n",
            "3/3 [==============================] - 0s 125ms/step - loss: 0.7593 - categorical_accuracy: 0.6941\n",
            "Epoch 73/500\n",
            "3/3 [==============================] - 0s 133ms/step - loss: 0.8130 - categorical_accuracy: 0.5765\n",
            "Epoch 74/500\n",
            "3/3 [==============================] - 0s 128ms/step - loss: 0.8098 - categorical_accuracy: 0.5647\n",
            "Epoch 75/500\n",
            "3/3 [==============================] - 0s 135ms/step - loss: 0.7616 - categorical_accuracy: 0.6588\n",
            "Epoch 76/500\n",
            "3/3 [==============================] - 0s 127ms/step - loss: 0.7920 - categorical_accuracy: 0.6706\n",
            "Epoch 77/500\n",
            "3/3 [==============================] - 0s 125ms/step - loss: 1.3226 - categorical_accuracy: 0.6353\n",
            "Epoch 78/500\n",
            "3/3 [==============================] - 0s 130ms/step - loss: 0.7844 - categorical_accuracy: 0.4824\n",
            "Epoch 79/500\n",
            "3/3 [==============================] - 0s 124ms/step - loss: 0.7011 - categorical_accuracy: 0.6118\n",
            "Epoch 80/500\n",
            "3/3 [==============================] - 0s 133ms/step - loss: 0.5488 - categorical_accuracy: 0.9176\n",
            "Epoch 81/500\n",
            "3/3 [==============================] - 0s 136ms/step - loss: 0.4106 - categorical_accuracy: 0.9294\n",
            "Epoch 82/500\n",
            "3/3 [==============================] - 0s 126ms/step - loss: 0.3948 - categorical_accuracy: 0.9294\n",
            "Epoch 83/500\n",
            "3/3 [==============================] - 0s 134ms/step - loss: 0.3867 - categorical_accuracy: 0.9294\n",
            "Epoch 84/500\n",
            "3/3 [==============================] - 0s 125ms/step - loss: 0.6785 - categorical_accuracy: 0.8706\n",
            "Epoch 85/500\n",
            "3/3 [==============================] - 0s 146ms/step - loss: 0.5726 - categorical_accuracy: 0.6941\n",
            "Epoch 86/500\n",
            "3/3 [==============================] - 0s 127ms/step - loss: 0.4896 - categorical_accuracy: 0.8118\n",
            "Epoch 87/500\n",
            "3/3 [==============================] - 0s 128ms/step - loss: 0.5471 - categorical_accuracy: 0.8824\n",
            "Epoch 88/500\n",
            "3/3 [==============================] - 0s 140ms/step - loss: 0.3699 - categorical_accuracy: 0.9059\n",
            "Epoch 89/500\n",
            "3/3 [==============================] - 0s 129ms/step - loss: 0.3461 - categorical_accuracy: 0.9412\n",
            "Epoch 90/500\n",
            "3/3 [==============================] - 0s 132ms/step - loss: 0.3096 - categorical_accuracy: 0.9412\n",
            "Epoch 91/500\n",
            "3/3 [==============================] - 0s 129ms/step - loss: 0.2903 - categorical_accuracy: 0.9412\n",
            "Epoch 92/500\n",
            "3/3 [==============================] - 0s 130ms/step - loss: 0.2500 - categorical_accuracy: 0.9412\n",
            "Epoch 93/500\n",
            "3/3 [==============================] - 0s 135ms/step - loss: 0.3300 - categorical_accuracy: 0.9412\n",
            "Epoch 94/500\n",
            "3/3 [==============================] - 0s 129ms/step - loss: 0.3765 - categorical_accuracy: 0.8353\n",
            "Epoch 95/500\n",
            "3/3 [==============================] - 0s 127ms/step - loss: 0.3011 - categorical_accuracy: 0.9294\n",
            "Epoch 96/500\n",
            "3/3 [==============================] - 0s 128ms/step - loss: 0.3444 - categorical_accuracy: 0.9294\n",
            "Epoch 97/500\n",
            "3/3 [==============================] - 0s 128ms/step - loss: 0.2778 - categorical_accuracy: 0.9412\n",
            "Epoch 98/500\n",
            "3/3 [==============================] - 0s 137ms/step - loss: 0.2396 - categorical_accuracy: 0.9412\n",
            "Epoch 99/500\n",
            "3/3 [==============================] - 0s 138ms/step - loss: 0.2628 - categorical_accuracy: 0.9412\n",
            "Epoch 100/500\n",
            "3/3 [==============================] - 0s 137ms/step - loss: 0.2307 - categorical_accuracy: 0.9529\n",
            "Epoch 101/500\n",
            "3/3 [==============================] - 0s 128ms/step - loss: 0.2104 - categorical_accuracy: 0.9412\n",
            "Epoch 102/500\n",
            "3/3 [==============================] - 0s 129ms/step - loss: 0.2439 - categorical_accuracy: 0.9412\n",
            "Epoch 103/500\n",
            "3/3 [==============================] - 0s 135ms/step - loss: 0.2243 - categorical_accuracy: 0.9412\n",
            "Epoch 104/500\n",
            "3/3 [==============================] - 0s 133ms/step - loss: 0.2019 - categorical_accuracy: 0.9412\n",
            "Epoch 105/500\n",
            "3/3 [==============================] - 0s 130ms/step - loss: 0.1994 - categorical_accuracy: 0.9412\n",
            "Epoch 106/500\n",
            "3/3 [==============================] - 0s 130ms/step - loss: 0.2027 - categorical_accuracy: 0.9529\n",
            "Epoch 107/500\n",
            "3/3 [==============================] - 0s 128ms/step - loss: 0.1701 - categorical_accuracy: 0.9412\n",
            "Epoch 108/500\n",
            "3/3 [==============================] - 0s 132ms/step - loss: 0.2017 - categorical_accuracy: 0.9412\n",
            "Epoch 109/500\n",
            "3/3 [==============================] - 0s 130ms/step - loss: 0.1858 - categorical_accuracy: 0.9412\n",
            "Epoch 110/500\n",
            "3/3 [==============================] - 0s 130ms/step - loss: 0.1752 - categorical_accuracy: 0.9412\n",
            "Epoch 111/500\n",
            "3/3 [==============================] - 0s 147ms/step - loss: 0.1692 - categorical_accuracy: 0.9412\n",
            "Epoch 112/500\n",
            "3/3 [==============================] - 0s 128ms/step - loss: 0.1676 - categorical_accuracy: 0.9529\n",
            "Epoch 113/500\n",
            "3/3 [==============================] - 0s 138ms/step - loss: 0.1597 - categorical_accuracy: 0.9647\n",
            "Epoch 114/500\n",
            "3/3 [==============================] - 0s 131ms/step - loss: 0.1455 - categorical_accuracy: 0.9412\n",
            "Epoch 115/500\n",
            "3/3 [==============================] - 0s 129ms/step - loss: 0.1543 - categorical_accuracy: 0.9412\n",
            "Epoch 116/500\n",
            "3/3 [==============================] - 0s 125ms/step - loss: 0.1637 - categorical_accuracy: 0.9529\n",
            "Epoch 117/500\n",
            "3/3 [==============================] - 0s 132ms/step - loss: 0.1582 - categorical_accuracy: 0.9412\n",
            "Epoch 118/500\n",
            "3/3 [==============================] - 1s 217ms/step - loss: 0.1387 - categorical_accuracy: 0.9529\n",
            "Epoch 119/500\n",
            "3/3 [==============================] - 1s 221ms/step - loss: 0.1393 - categorical_accuracy: 0.9412\n",
            "Epoch 120/500\n",
            "3/3 [==============================] - 1s 226ms/step - loss: 0.1402 - categorical_accuracy: 0.9412\n",
            "Epoch 121/500\n",
            "3/3 [==============================] - 1s 227ms/step - loss: 0.1180 - categorical_accuracy: 0.9529\n",
            "Epoch 122/500\n",
            "3/3 [==============================] - 1s 237ms/step - loss: 0.1350 - categorical_accuracy: 0.9647\n",
            "Epoch 123/500\n",
            "3/3 [==============================] - 1s 229ms/step - loss: 0.1449 - categorical_accuracy: 0.9294\n",
            "Epoch 124/500\n",
            "3/3 [==============================] - 1s 210ms/step - loss: 0.1811 - categorical_accuracy: 0.9412\n",
            "Epoch 125/500\n",
            "3/3 [==============================] - 0s 127ms/step - loss: 0.1524 - categorical_accuracy: 0.9412\n",
            "Epoch 126/500\n",
            "3/3 [==============================] - 0s 135ms/step - loss: 0.1150 - categorical_accuracy: 0.9529\n",
            "Epoch 127/500\n",
            "3/3 [==============================] - 0s 130ms/step - loss: 0.1439 - categorical_accuracy: 0.9529\n",
            "Epoch 128/500\n",
            "3/3 [==============================] - 0s 129ms/step - loss: 0.1168 - categorical_accuracy: 0.9765\n",
            "Epoch 129/500\n",
            "3/3 [==============================] - 0s 129ms/step - loss: 0.1241 - categorical_accuracy: 0.9529\n",
            "Epoch 130/500\n",
            "3/3 [==============================] - 0s 136ms/step - loss: 0.1351 - categorical_accuracy: 0.9529\n",
            "Epoch 131/500\n",
            "3/3 [==============================] - 0s 135ms/step - loss: 0.1113 - categorical_accuracy: 0.9765\n",
            "Epoch 132/500\n",
            "3/3 [==============================] - 0s 127ms/step - loss: 0.1283 - categorical_accuracy: 0.9647\n",
            "Epoch 133/500\n",
            "3/3 [==============================] - 0s 138ms/step - loss: 0.1029 - categorical_accuracy: 0.9647\n",
            "Epoch 134/500\n",
            "3/3 [==============================] - 0s 126ms/step - loss: 0.1207 - categorical_accuracy: 0.9529\n",
            "Epoch 135/500\n",
            "3/3 [==============================] - 0s 132ms/step - loss: 0.1428 - categorical_accuracy: 0.9529\n",
            "Epoch 136/500\n",
            "3/3 [==============================] - 0s 137ms/step - loss: 0.1261 - categorical_accuracy: 0.9529\n",
            "Epoch 137/500\n",
            "3/3 [==============================] - 0s 133ms/step - loss: 0.1009 - categorical_accuracy: 0.9647\n",
            "Epoch 138/500\n",
            "3/3 [==============================] - 0s 127ms/step - loss: 0.1073 - categorical_accuracy: 0.9765\n",
            "Epoch 139/500\n",
            "3/3 [==============================] - 0s 132ms/step - loss: 0.0915 - categorical_accuracy: 0.9647\n",
            "Epoch 140/500\n",
            "3/3 [==============================] - 0s 126ms/step - loss: 0.1145 - categorical_accuracy: 0.9647\n",
            "Epoch 141/500\n",
            "3/3 [==============================] - 0s 134ms/step - loss: 0.0745 - categorical_accuracy: 0.9882\n",
            "Epoch 142/500\n",
            "3/3 [==============================] - 0s 125ms/step - loss: 0.0807 - categorical_accuracy: 0.9882\n",
            "Epoch 143/500\n",
            "3/3 [==============================] - 0s 128ms/step - loss: 0.0822 - categorical_accuracy: 0.9647\n",
            "Epoch 144/500\n",
            "3/3 [==============================] - 0s 127ms/step - loss: 0.0816 - categorical_accuracy: 0.9765\n",
            "Epoch 145/500\n",
            "3/3 [==============================] - 0s 125ms/step - loss: 0.0778 - categorical_accuracy: 0.9765\n",
            "Epoch 146/500\n",
            "3/3 [==============================] - 0s 139ms/step - loss: 0.0656 - categorical_accuracy: 0.9882\n",
            "Epoch 147/500\n",
            "3/3 [==============================] - 0s 127ms/step - loss: 0.1436 - categorical_accuracy: 0.9412\n",
            "Epoch 148/500\n",
            "3/3 [==============================] - 0s 129ms/step - loss: 0.9850 - categorical_accuracy: 0.8235\n",
            "Epoch 149/500\n",
            "3/3 [==============================] - 0s 126ms/step - loss: 1.7683 - categorical_accuracy: 0.6706\n",
            "Epoch 150/500\n",
            "3/3 [==============================] - 0s 133ms/step - loss: 3.5889 - categorical_accuracy: 0.6353\n",
            "Epoch 151/500\n",
            "3/3 [==============================] - 0s 139ms/step - loss: 1.6670 - categorical_accuracy: 0.3765\n",
            "Epoch 152/500\n",
            "3/3 [==============================] - 0s 129ms/step - loss: 0.7341 - categorical_accuracy: 0.6471\n",
            "Epoch 153/500\n",
            "3/3 [==============================] - 0s 125ms/step - loss: 0.6123 - categorical_accuracy: 0.7294\n",
            "Epoch 154/500\n",
            "3/3 [==============================] - 0s 137ms/step - loss: 0.6156 - categorical_accuracy: 0.6471\n",
            "Epoch 155/500\n",
            "3/3 [==============================] - 0s 128ms/step - loss: 0.5721 - categorical_accuracy: 0.8118\n",
            "Epoch 156/500\n",
            "3/3 [==============================] - 0s 136ms/step - loss: 0.5531 - categorical_accuracy: 0.8000\n",
            "Epoch 157/500\n",
            "3/3 [==============================] - 0s 131ms/step - loss: 0.5187 - categorical_accuracy: 0.7529\n",
            "Epoch 158/500\n",
            "3/3 [==============================] - 0s 129ms/step - loss: 0.4817 - categorical_accuracy: 0.9059\n",
            "Epoch 159/500\n",
            "3/3 [==============================] - 0s 135ms/step - loss: 0.4259 - categorical_accuracy: 0.9294\n",
            "Epoch 160/500\n",
            "3/3 [==============================] - 0s 128ms/step - loss: 0.4238 - categorical_accuracy: 0.9176\n",
            "Epoch 161/500\n",
            "3/3 [==============================] - 0s 133ms/step - loss: 0.3809 - categorical_accuracy: 0.9294\n",
            "Epoch 162/500\n",
            "3/3 [==============================] - 0s 128ms/step - loss: 0.5839 - categorical_accuracy: 0.7176\n",
            "Epoch 163/500\n",
            "3/3 [==============================] - 0s 129ms/step - loss: 0.5442 - categorical_accuracy: 0.8353\n",
            "Epoch 164/500\n",
            "3/3 [==============================] - 0s 135ms/step - loss: 0.5656 - categorical_accuracy: 0.8353\n",
            "Epoch 165/500\n",
            "3/3 [==============================] - 0s 129ms/step - loss: 0.5050 - categorical_accuracy: 0.8235\n",
            "Epoch 166/500\n",
            "3/3 [==============================] - 0s 138ms/step - loss: 0.4392 - categorical_accuracy: 0.9059\n",
            "Epoch 167/500\n",
            "3/3 [==============================] - 0s 125ms/step - loss: 0.4584 - categorical_accuracy: 0.8941\n",
            "Epoch 168/500\n",
            "3/3 [==============================] - 0s 132ms/step - loss: 0.4229 - categorical_accuracy: 0.9059\n",
            "Epoch 169/500\n",
            "3/3 [==============================] - 0s 139ms/step - loss: 0.4061 - categorical_accuracy: 0.8941\n",
            "Epoch 170/500\n",
            "3/3 [==============================] - 0s 130ms/step - loss: 0.3968 - categorical_accuracy: 0.9176\n",
            "Epoch 171/500\n",
            "3/3 [==============================] - 0s 142ms/step - loss: 0.3879 - categorical_accuracy: 0.9294\n",
            "Epoch 172/500\n",
            "3/3 [==============================] - 0s 126ms/step - loss: 0.3595 - categorical_accuracy: 0.9412\n",
            "Epoch 173/500\n",
            "3/3 [==============================] - 0s 135ms/step - loss: 0.3467 - categorical_accuracy: 0.9294\n",
            "Epoch 174/500\n",
            "3/3 [==============================] - 0s 135ms/step - loss: 0.3440 - categorical_accuracy: 0.9412\n",
            "Epoch 175/500\n",
            "3/3 [==============================] - 0s 126ms/step - loss: 0.3029 - categorical_accuracy: 0.9294\n",
            "Epoch 176/500\n",
            "3/3 [==============================] - 0s 141ms/step - loss: 0.3026 - categorical_accuracy: 0.9294\n",
            "Epoch 177/500\n",
            "3/3 [==============================] - 0s 125ms/step - loss: 0.2958 - categorical_accuracy: 0.9412\n",
            "Epoch 178/500\n",
            "3/3 [==============================] - 0s 128ms/step - loss: 0.2695 - categorical_accuracy: 0.9412\n",
            "Epoch 179/500\n",
            "3/3 [==============================] - 0s 134ms/step - loss: 0.2713 - categorical_accuracy: 0.9412\n",
            "Epoch 180/500\n",
            "3/3 [==============================] - 0s 130ms/step - loss: 0.2649 - categorical_accuracy: 0.9412\n",
            "Epoch 181/500\n",
            "3/3 [==============================] - 0s 134ms/step - loss: 0.2612 - categorical_accuracy: 0.9412\n",
            "Epoch 182/500\n",
            "3/3 [==============================] - 0s 130ms/step - loss: 0.2533 - categorical_accuracy: 0.9412\n",
            "Epoch 183/500\n",
            "3/3 [==============================] - 0s 134ms/step - loss: 0.2549 - categorical_accuracy: 0.9412\n",
            "Epoch 184/500\n",
            "3/3 [==============================] - 0s 136ms/step - loss: 0.2303 - categorical_accuracy: 0.9412\n",
            "Epoch 185/500\n",
            "3/3 [==============================] - 0s 124ms/step - loss: 0.2298 - categorical_accuracy: 0.9294\n",
            "Epoch 186/500\n",
            "3/3 [==============================] - 0s 133ms/step - loss: 0.2180 - categorical_accuracy: 0.9412\n",
            "Epoch 187/500\n",
            "3/3 [==============================] - 0s 128ms/step - loss: 0.2535 - categorical_accuracy: 0.9412\n",
            "Epoch 188/500\n",
            "3/3 [==============================] - 0s 132ms/step - loss: 0.2465 - categorical_accuracy: 0.9294\n",
            "Epoch 189/500\n",
            "3/3 [==============================] - 0s 133ms/step - loss: 0.2383 - categorical_accuracy: 0.9176\n",
            "Epoch 190/500\n",
            "3/3 [==============================] - 0s 130ms/step - loss: 0.1952 - categorical_accuracy: 0.9412\n",
            "Epoch 191/500\n",
            "3/3 [==============================] - 0s 133ms/step - loss: 0.2149 - categorical_accuracy: 0.9412\n",
            "Epoch 192/500\n",
            "3/3 [==============================] - 0s 126ms/step - loss: 0.1945 - categorical_accuracy: 0.9412\n",
            "Epoch 193/500\n",
            "3/3 [==============================] - 0s 133ms/step - loss: 0.1598 - categorical_accuracy: 0.9529\n",
            "Epoch 194/500\n",
            "3/3 [==============================] - 0s 136ms/step - loss: 0.1464 - categorical_accuracy: 0.9647\n",
            "Epoch 195/500\n",
            "3/3 [==============================] - 0s 127ms/step - loss: 0.1263 - categorical_accuracy: 0.9412\n",
            "Epoch 196/500\n",
            "3/3 [==============================] - 0s 134ms/step - loss: 0.0804 - categorical_accuracy: 0.9647\n",
            "Epoch 197/500\n",
            "3/3 [==============================] - 0s 127ms/step - loss: 0.2675 - categorical_accuracy: 0.9882\n",
            "Epoch 198/500\n",
            "3/3 [==============================] - 0s 129ms/step - loss: 0.0875 - categorical_accuracy: 0.9647\n",
            "Epoch 199/500\n",
            "3/3 [==============================] - 0s 138ms/step - loss: 0.1175 - categorical_accuracy: 0.9647\n",
            "Epoch 200/500\n",
            "3/3 [==============================] - 0s 137ms/step - loss: 0.1270 - categorical_accuracy: 0.9647\n",
            "Epoch 201/500\n",
            "3/3 [==============================] - 0s 137ms/step - loss: 0.1164 - categorical_accuracy: 0.9647\n",
            "Epoch 202/500\n",
            "3/3 [==============================] - 0s 131ms/step - loss: 0.1035 - categorical_accuracy: 0.9529\n",
            "Epoch 203/500\n",
            "3/3 [==============================] - 0s 133ms/step - loss: 0.1002 - categorical_accuracy: 0.9529\n",
            "Epoch 204/500\n",
            "3/3 [==============================] - 0s 143ms/step - loss: 0.1025 - categorical_accuracy: 0.9529\n",
            "Epoch 205/500\n",
            "3/3 [==============================] - 0s 131ms/step - loss: 0.0943 - categorical_accuracy: 0.9529\n",
            "Epoch 206/500\n",
            "3/3 [==============================] - 0s 139ms/step - loss: 0.0842 - categorical_accuracy: 0.9529\n",
            "Epoch 207/500\n",
            "3/3 [==============================] - 0s 133ms/step - loss: 0.0765 - categorical_accuracy: 0.9647\n",
            "Epoch 208/500\n",
            "3/3 [==============================] - 0s 132ms/step - loss: 0.0697 - categorical_accuracy: 0.9647\n",
            "Epoch 209/500\n",
            "3/3 [==============================] - 0s 137ms/step - loss: 0.0608 - categorical_accuracy: 0.9647\n",
            "Epoch 210/500\n",
            "3/3 [==============================] - 0s 135ms/step - loss: 0.0610 - categorical_accuracy: 0.9647\n",
            "Epoch 211/500\n",
            "3/3 [==============================] - 0s 145ms/step - loss: 0.0444 - categorical_accuracy: 0.9882\n",
            "Epoch 212/500\n",
            "3/3 [==============================] - 0s 141ms/step - loss: 0.0397 - categorical_accuracy: 0.9882\n",
            "Epoch 213/500\n",
            "3/3 [==============================] - 0s 134ms/step - loss: 0.0292 - categorical_accuracy: 0.9882\n",
            "Epoch 214/500\n",
            "3/3 [==============================] - 0s 140ms/step - loss: 0.0149 - categorical_accuracy: 1.0000\n",
            "Epoch 215/500\n",
            "3/3 [==============================] - 0s 129ms/step - loss: 0.0156 - categorical_accuracy: 1.0000\n",
            "Epoch 216/500\n",
            "3/3 [==============================] - 0s 141ms/step - loss: 0.0159 - categorical_accuracy: 0.9882\n",
            "Epoch 217/500\n",
            "3/3 [==============================] - 0s 133ms/step - loss: 0.0112 - categorical_accuracy: 1.0000\n",
            "Epoch 218/500\n",
            "3/3 [==============================] - 0s 135ms/step - loss: 0.0056 - categorical_accuracy: 1.0000\n",
            "Epoch 219/500\n",
            "3/3 [==============================] - 0s 132ms/step - loss: 0.0071 - categorical_accuracy: 1.0000\n",
            "Epoch 220/500\n",
            "3/3 [==============================] - 0s 128ms/step - loss: 0.0080 - categorical_accuracy: 1.0000\n",
            "Epoch 221/500\n",
            "3/3 [==============================] - 0s 139ms/step - loss: 0.0189 - categorical_accuracy: 0.9882\n",
            "Epoch 222/500\n",
            "3/3 [==============================] - 0s 137ms/step - loss: 0.1747 - categorical_accuracy: 0.9412\n",
            "Epoch 223/500\n",
            "3/3 [==============================] - 0s 136ms/step - loss: 0.0683 - categorical_accuracy: 0.9647\n",
            "Epoch 224/500\n",
            "3/3 [==============================] - 0s 135ms/step - loss: 0.0464 - categorical_accuracy: 0.9765\n",
            "Epoch 225/500\n",
            "3/3 [==============================] - 0s 130ms/step - loss: 0.0524 - categorical_accuracy: 0.9765\n",
            "Epoch 226/500\n",
            "3/3 [==============================] - 0s 132ms/step - loss: 0.0214 - categorical_accuracy: 1.0000\n",
            "Epoch 227/500\n",
            "3/3 [==============================] - 0s 126ms/step - loss: 0.0343 - categorical_accuracy: 0.9882\n",
            "Epoch 228/500\n",
            "3/3 [==============================] - 0s 136ms/step - loss: 0.0221 - categorical_accuracy: 1.0000\n",
            "Epoch 229/500\n",
            "3/3 [==============================] - 0s 133ms/step - loss: 0.0205 - categorical_accuracy: 1.0000\n",
            "Epoch 230/500\n",
            "3/3 [==============================] - 0s 133ms/step - loss: 0.0207 - categorical_accuracy: 1.0000\n",
            "Epoch 231/500\n",
            "3/3 [==============================] - 0s 140ms/step - loss: 0.0125 - categorical_accuracy: 1.0000\n",
            "Epoch 232/500\n",
            "3/3 [==============================] - 0s 131ms/step - loss: 0.0110 - categorical_accuracy: 1.0000\n",
            "Epoch 233/500\n",
            "3/3 [==============================] - 0s 142ms/step - loss: 0.0112 - categorical_accuracy: 1.0000\n",
            "Epoch 234/500\n",
            "3/3 [==============================] - 0s 131ms/step - loss: 0.0073 - categorical_accuracy: 1.0000\n",
            "Epoch 235/500\n",
            "3/3 [==============================] - 0s 132ms/step - loss: 0.0059 - categorical_accuracy: 1.0000\n",
            "Epoch 236/500\n",
            "3/3 [==============================] - 0s 132ms/step - loss: 0.0053 - categorical_accuracy: 1.0000\n",
            "Epoch 237/500\n",
            "3/3 [==============================] - 0s 129ms/step - loss: 0.0046 - categorical_accuracy: 1.0000\n",
            "Epoch 238/500\n",
            "3/3 [==============================] - 0s 154ms/step - loss: 0.0039 - categorical_accuracy: 1.0000\n",
            "Epoch 239/500\n",
            "3/3 [==============================] - 0s 136ms/step - loss: 0.0032 - categorical_accuracy: 1.0000\n",
            "Epoch 240/500\n",
            "3/3 [==============================] - 0s 132ms/step - loss: 0.0025 - categorical_accuracy: 1.0000\n",
            "Epoch 241/500\n",
            "3/3 [==============================] - 0s 135ms/step - loss: 0.0022 - categorical_accuracy: 1.0000\n",
            "Epoch 242/500\n",
            "3/3 [==============================] - 0s 134ms/step - loss: 0.0019 - categorical_accuracy: 1.0000\n",
            "Epoch 243/500\n",
            "3/3 [==============================] - 0s 137ms/step - loss: 0.0016 - categorical_accuracy: 1.0000\n",
            "Epoch 244/500\n",
            "3/3 [==============================] - 0s 125ms/step - loss: 0.0014 - categorical_accuracy: 1.0000\n",
            "Epoch 245/500\n",
            "3/3 [==============================] - 0s 134ms/step - loss: 0.0012 - categorical_accuracy: 1.0000\n",
            "Epoch 246/500\n",
            "3/3 [==============================] - 0s 130ms/step - loss: 0.0011 - categorical_accuracy: 1.0000\n",
            "Epoch 247/500\n",
            "3/3 [==============================] - 0s 131ms/step - loss: 9.9349e-04 - categorical_accuracy: 1.0000\n",
            "Epoch 248/500\n",
            "1/3 [=========>....................] - ETA: 0s - loss: 9.1419e-04 - categorical_accuracy: 1.0000"
          ]
        },
        {
          "output_type": "error",
          "ename": "KeyboardInterrupt",
          "evalue": "ignored",
          "traceback": [
            "\u001b[0;31m---------------------------------------------------------------------------\u001b[0m",
            "\u001b[0;31mKeyboardInterrupt\u001b[0m                         Traceback (most recent call last)",
            "\u001b[0;32m<ipython-input-63-e21978f3c003>\u001b[0m in \u001b[0;36m<module>\u001b[0;34m\u001b[0m\n\u001b[0;32m----> 1\u001b[0;31m \u001b[0mmodel\u001b[0m\u001b[0;34m.\u001b[0m\u001b[0mfit\u001b[0m\u001b[0;34m(\u001b[0m\u001b[0mx_train\u001b[0m\u001b[0;34m,\u001b[0m \u001b[0my_train\u001b[0m\u001b[0;34m,\u001b[0m \u001b[0mepochs\u001b[0m\u001b[0;34m=\u001b[0m\u001b[0;36m500\u001b[0m\u001b[0;34m,\u001b[0m \u001b[0mcallbacks\u001b[0m\u001b[0;34m=\u001b[0m\u001b[0;34m[\u001b[0m\u001b[0mtb_callback\u001b[0m\u001b[0;34m]\u001b[0m\u001b[0;34m)\u001b[0m\u001b[0;34m\u001b[0m\u001b[0;34m\u001b[0m\u001b[0m\n\u001b[0m",
            "\u001b[0;32m/usr/local/lib/python3.7/dist-packages/keras/utils/traceback_utils.py\u001b[0m in \u001b[0;36merror_handler\u001b[0;34m(*args, **kwargs)\u001b[0m\n\u001b[1;32m     62\u001b[0m     \u001b[0mfiltered_tb\u001b[0m \u001b[0;34m=\u001b[0m \u001b[0;32mNone\u001b[0m\u001b[0;34m\u001b[0m\u001b[0;34m\u001b[0m\u001b[0m\n\u001b[1;32m     63\u001b[0m     \u001b[0;32mtry\u001b[0m\u001b[0;34m:\u001b[0m\u001b[0;34m\u001b[0m\u001b[0;34m\u001b[0m\u001b[0m\n\u001b[0;32m---> 64\u001b[0;31m       \u001b[0;32mreturn\u001b[0m \u001b[0mfn\u001b[0m\u001b[0;34m(\u001b[0m\u001b[0;34m*\u001b[0m\u001b[0margs\u001b[0m\u001b[0;34m,\u001b[0m \u001b[0;34m**\u001b[0m\u001b[0mkwargs\u001b[0m\u001b[0;34m)\u001b[0m\u001b[0;34m\u001b[0m\u001b[0;34m\u001b[0m\u001b[0m\n\u001b[0m\u001b[1;32m     65\u001b[0m     \u001b[0;32mexcept\u001b[0m \u001b[0mException\u001b[0m \u001b[0;32mas\u001b[0m \u001b[0me\u001b[0m\u001b[0;34m:\u001b[0m  \u001b[0;31m# pylint: disable=broad-except\u001b[0m\u001b[0;34m\u001b[0m\u001b[0;34m\u001b[0m\u001b[0m\n\u001b[1;32m     66\u001b[0m       \u001b[0mfiltered_tb\u001b[0m \u001b[0;34m=\u001b[0m \u001b[0m_process_traceback_frames\u001b[0m\u001b[0;34m(\u001b[0m\u001b[0me\u001b[0m\u001b[0;34m.\u001b[0m\u001b[0m__traceback__\u001b[0m\u001b[0;34m)\u001b[0m\u001b[0;34m\u001b[0m\u001b[0;34m\u001b[0m\u001b[0m\n",
            "\u001b[0;32m/usr/local/lib/python3.7/dist-packages/keras/engine/training.py\u001b[0m in \u001b[0;36mfit\u001b[0;34m(self, x, y, batch_size, epochs, verbose, callbacks, validation_split, validation_data, shuffle, class_weight, sample_weight, initial_epoch, steps_per_epoch, validation_steps, validation_batch_size, validation_freq, max_queue_size, workers, use_multiprocessing)\u001b[0m\n\u001b[1;32m   1407\u001b[0m                 _r=1):\n\u001b[1;32m   1408\u001b[0m               \u001b[0mcallbacks\u001b[0m\u001b[0;34m.\u001b[0m\u001b[0mon_train_batch_begin\u001b[0m\u001b[0;34m(\u001b[0m\u001b[0mstep\u001b[0m\u001b[0;34m)\u001b[0m\u001b[0;34m\u001b[0m\u001b[0;34m\u001b[0m\u001b[0m\n\u001b[0;32m-> 1409\u001b[0;31m               \u001b[0mtmp_logs\u001b[0m \u001b[0;34m=\u001b[0m \u001b[0mself\u001b[0m\u001b[0;34m.\u001b[0m\u001b[0mtrain_function\u001b[0m\u001b[0;34m(\u001b[0m\u001b[0miterator\u001b[0m\u001b[0;34m)\u001b[0m\u001b[0;34m\u001b[0m\u001b[0;34m\u001b[0m\u001b[0m\n\u001b[0m\u001b[1;32m   1410\u001b[0m               \u001b[0;32mif\u001b[0m \u001b[0mdata_handler\u001b[0m\u001b[0;34m.\u001b[0m\u001b[0mshould_sync\u001b[0m\u001b[0;34m:\u001b[0m\u001b[0;34m\u001b[0m\u001b[0;34m\u001b[0m\u001b[0m\n\u001b[1;32m   1411\u001b[0m                 \u001b[0mcontext\u001b[0m\u001b[0;34m.\u001b[0m\u001b[0masync_wait\u001b[0m\u001b[0;34m(\u001b[0m\u001b[0;34m)\u001b[0m\u001b[0;34m\u001b[0m\u001b[0;34m\u001b[0m\u001b[0m\n",
            "\u001b[0;32m/usr/local/lib/python3.7/dist-packages/tensorflow/python/util/traceback_utils.py\u001b[0m in \u001b[0;36merror_handler\u001b[0;34m(*args, **kwargs)\u001b[0m\n\u001b[1;32m    148\u001b[0m     \u001b[0mfiltered_tb\u001b[0m \u001b[0;34m=\u001b[0m \u001b[0;32mNone\u001b[0m\u001b[0;34m\u001b[0m\u001b[0;34m\u001b[0m\u001b[0m\n\u001b[1;32m    149\u001b[0m     \u001b[0;32mtry\u001b[0m\u001b[0;34m:\u001b[0m\u001b[0;34m\u001b[0m\u001b[0;34m\u001b[0m\u001b[0m\n\u001b[0;32m--> 150\u001b[0;31m       \u001b[0;32mreturn\u001b[0m \u001b[0mfn\u001b[0m\u001b[0;34m(\u001b[0m\u001b[0;34m*\u001b[0m\u001b[0margs\u001b[0m\u001b[0;34m,\u001b[0m \u001b[0;34m**\u001b[0m\u001b[0mkwargs\u001b[0m\u001b[0;34m)\u001b[0m\u001b[0;34m\u001b[0m\u001b[0;34m\u001b[0m\u001b[0m\n\u001b[0m\u001b[1;32m    151\u001b[0m     \u001b[0;32mexcept\u001b[0m \u001b[0mException\u001b[0m \u001b[0;32mas\u001b[0m \u001b[0me\u001b[0m\u001b[0;34m:\u001b[0m\u001b[0;34m\u001b[0m\u001b[0;34m\u001b[0m\u001b[0m\n\u001b[1;32m    152\u001b[0m       \u001b[0mfiltered_tb\u001b[0m \u001b[0;34m=\u001b[0m \u001b[0m_process_traceback_frames\u001b[0m\u001b[0;34m(\u001b[0m\u001b[0me\u001b[0m\u001b[0;34m.\u001b[0m\u001b[0m__traceback__\u001b[0m\u001b[0;34m)\u001b[0m\u001b[0;34m\u001b[0m\u001b[0;34m\u001b[0m\u001b[0m\n",
            "\u001b[0;32m/usr/local/lib/python3.7/dist-packages/tensorflow/python/eager/def_function.py\u001b[0m in \u001b[0;36m__call__\u001b[0;34m(self, *args, **kwds)\u001b[0m\n\u001b[1;32m    913\u001b[0m \u001b[0;34m\u001b[0m\u001b[0m\n\u001b[1;32m    914\u001b[0m       \u001b[0;32mwith\u001b[0m \u001b[0mOptionalXlaContext\u001b[0m\u001b[0;34m(\u001b[0m\u001b[0mself\u001b[0m\u001b[0;34m.\u001b[0m\u001b[0m_jit_compile\u001b[0m\u001b[0;34m)\u001b[0m\u001b[0;34m:\u001b[0m\u001b[0;34m\u001b[0m\u001b[0;34m\u001b[0m\u001b[0m\n\u001b[0;32m--> 915\u001b[0;31m         \u001b[0mresult\u001b[0m \u001b[0;34m=\u001b[0m \u001b[0mself\u001b[0m\u001b[0;34m.\u001b[0m\u001b[0m_call\u001b[0m\u001b[0;34m(\u001b[0m\u001b[0;34m*\u001b[0m\u001b[0margs\u001b[0m\u001b[0;34m,\u001b[0m \u001b[0;34m**\u001b[0m\u001b[0mkwds\u001b[0m\u001b[0;34m)\u001b[0m\u001b[0;34m\u001b[0m\u001b[0;34m\u001b[0m\u001b[0m\n\u001b[0m\u001b[1;32m    916\u001b[0m \u001b[0;34m\u001b[0m\u001b[0m\n\u001b[1;32m    917\u001b[0m       \u001b[0mnew_tracing_count\u001b[0m \u001b[0;34m=\u001b[0m \u001b[0mself\u001b[0m\u001b[0;34m.\u001b[0m\u001b[0mexperimental_get_tracing_count\u001b[0m\u001b[0;34m(\u001b[0m\u001b[0;34m)\u001b[0m\u001b[0;34m\u001b[0m\u001b[0;34m\u001b[0m\u001b[0m\n",
            "\u001b[0;32m/usr/local/lib/python3.7/dist-packages/tensorflow/python/eager/def_function.py\u001b[0m in \u001b[0;36m_call\u001b[0;34m(self, *args, **kwds)\u001b[0m\n\u001b[1;32m    945\u001b[0m       \u001b[0;31m# In this case we have created variables on the first call, so we run the\u001b[0m\u001b[0;34m\u001b[0m\u001b[0;34m\u001b[0m\u001b[0;34m\u001b[0m\u001b[0m\n\u001b[1;32m    946\u001b[0m       \u001b[0;31m# defunned version which is guaranteed to never create variables.\u001b[0m\u001b[0;34m\u001b[0m\u001b[0;34m\u001b[0m\u001b[0;34m\u001b[0m\u001b[0m\n\u001b[0;32m--> 947\u001b[0;31m       \u001b[0;32mreturn\u001b[0m \u001b[0mself\u001b[0m\u001b[0;34m.\u001b[0m\u001b[0m_stateless_fn\u001b[0m\u001b[0;34m(\u001b[0m\u001b[0;34m*\u001b[0m\u001b[0margs\u001b[0m\u001b[0;34m,\u001b[0m \u001b[0;34m**\u001b[0m\u001b[0mkwds\u001b[0m\u001b[0;34m)\u001b[0m  \u001b[0;31m# pylint: disable=not-callable\u001b[0m\u001b[0;34m\u001b[0m\u001b[0;34m\u001b[0m\u001b[0m\n\u001b[0m\u001b[1;32m    948\u001b[0m     \u001b[0;32melif\u001b[0m \u001b[0mself\u001b[0m\u001b[0;34m.\u001b[0m\u001b[0m_stateful_fn\u001b[0m \u001b[0;32mis\u001b[0m \u001b[0;32mnot\u001b[0m \u001b[0;32mNone\u001b[0m\u001b[0;34m:\u001b[0m\u001b[0;34m\u001b[0m\u001b[0;34m\u001b[0m\u001b[0m\n\u001b[1;32m    949\u001b[0m       \u001b[0;31m# Release the lock early so that multiple threads can perform the call\u001b[0m\u001b[0;34m\u001b[0m\u001b[0;34m\u001b[0m\u001b[0;34m\u001b[0m\u001b[0m\n",
            "\u001b[0;32m/usr/local/lib/python3.7/dist-packages/tensorflow/python/eager/function.py\u001b[0m in \u001b[0;36m__call__\u001b[0;34m(self, *args, **kwargs)\u001b[0m\n\u001b[1;32m   2452\u001b[0m        filtered_flat_args) = self._maybe_define_function(args, kwargs)\n\u001b[1;32m   2453\u001b[0m     return graph_function._call_flat(\n\u001b[0;32m-> 2454\u001b[0;31m         filtered_flat_args, captured_inputs=graph_function.captured_inputs)  # pylint: disable=protected-access\n\u001b[0m\u001b[1;32m   2455\u001b[0m \u001b[0;34m\u001b[0m\u001b[0m\n\u001b[1;32m   2456\u001b[0m   \u001b[0;34m@\u001b[0m\u001b[0mproperty\u001b[0m\u001b[0;34m\u001b[0m\u001b[0;34m\u001b[0m\u001b[0m\n",
            "\u001b[0;32m/usr/local/lib/python3.7/dist-packages/tensorflow/python/eager/function.py\u001b[0m in \u001b[0;36m_call_flat\u001b[0;34m(self, args, captured_inputs, cancellation_manager)\u001b[0m\n\u001b[1;32m   1859\u001b[0m       \u001b[0;31m# No tape is watching; skip to running the function.\u001b[0m\u001b[0;34m\u001b[0m\u001b[0;34m\u001b[0m\u001b[0;34m\u001b[0m\u001b[0m\n\u001b[1;32m   1860\u001b[0m       return self._build_call_outputs(self._inference_function.call(\n\u001b[0;32m-> 1861\u001b[0;31m           ctx, args, cancellation_manager=cancellation_manager))\n\u001b[0m\u001b[1;32m   1862\u001b[0m     forward_backward = self._select_forward_and_backward_functions(\n\u001b[1;32m   1863\u001b[0m         \u001b[0margs\u001b[0m\u001b[0;34m,\u001b[0m\u001b[0;34m\u001b[0m\u001b[0;34m\u001b[0m\u001b[0m\n",
            "\u001b[0;32m/usr/local/lib/python3.7/dist-packages/tensorflow/python/eager/function.py\u001b[0m in \u001b[0;36mcall\u001b[0;34m(self, ctx, args, cancellation_manager)\u001b[0m\n\u001b[1;32m    500\u001b[0m               \u001b[0minputs\u001b[0m\u001b[0;34m=\u001b[0m\u001b[0margs\u001b[0m\u001b[0;34m,\u001b[0m\u001b[0;34m\u001b[0m\u001b[0;34m\u001b[0m\u001b[0m\n\u001b[1;32m    501\u001b[0m               \u001b[0mattrs\u001b[0m\u001b[0;34m=\u001b[0m\u001b[0mattrs\u001b[0m\u001b[0;34m,\u001b[0m\u001b[0;34m\u001b[0m\u001b[0;34m\u001b[0m\u001b[0m\n\u001b[0;32m--> 502\u001b[0;31m               ctx=ctx)\n\u001b[0m\u001b[1;32m    503\u001b[0m         \u001b[0;32melse\u001b[0m\u001b[0;34m:\u001b[0m\u001b[0;34m\u001b[0m\u001b[0;34m\u001b[0m\u001b[0m\n\u001b[1;32m    504\u001b[0m           outputs = execute.execute_with_cancellation(\n",
            "\u001b[0;32m/usr/local/lib/python3.7/dist-packages/tensorflow/python/eager/execute.py\u001b[0m in \u001b[0;36mquick_execute\u001b[0;34m(op_name, num_outputs, inputs, attrs, ctx, name)\u001b[0m\n\u001b[1;32m     53\u001b[0m     \u001b[0mctx\u001b[0m\u001b[0;34m.\u001b[0m\u001b[0mensure_initialized\u001b[0m\u001b[0;34m(\u001b[0m\u001b[0;34m)\u001b[0m\u001b[0;34m\u001b[0m\u001b[0;34m\u001b[0m\u001b[0m\n\u001b[1;32m     54\u001b[0m     tensors = pywrap_tfe.TFE_Py_Execute(ctx._handle, device_name, op_name,\n\u001b[0;32m---> 55\u001b[0;31m                                         inputs, attrs, num_outputs)\n\u001b[0m\u001b[1;32m     56\u001b[0m   \u001b[0;32mexcept\u001b[0m \u001b[0mcore\u001b[0m\u001b[0;34m.\u001b[0m\u001b[0m_NotOkStatusException\u001b[0m \u001b[0;32mas\u001b[0m \u001b[0me\u001b[0m\u001b[0;34m:\u001b[0m\u001b[0;34m\u001b[0m\u001b[0;34m\u001b[0m\u001b[0m\n\u001b[1;32m     57\u001b[0m     \u001b[0;32mif\u001b[0m \u001b[0mname\u001b[0m \u001b[0;32mis\u001b[0m \u001b[0;32mnot\u001b[0m \u001b[0;32mNone\u001b[0m\u001b[0;34m:\u001b[0m\u001b[0;34m\u001b[0m\u001b[0;34m\u001b[0m\u001b[0m\n",
            "\u001b[0;31mKeyboardInterrupt\u001b[0m: "
          ]
        }
      ]
    },
    {
      "cell_type": "code",
      "source": [
        "model.summary()"
      ],
      "metadata": {
        "colab": {
          "base_uri": "https://localhost:8080/"
        },
        "id": "IkX35ClFZSFg",
        "outputId": "012fa581-2816-41f3-92bc-74e7a7ad533f"
      },
      "execution_count": 64,
      "outputs": [
        {
          "output_type": "stream",
          "name": "stdout",
          "text": [
            "Model: \"sequential_1\"\n",
            "_________________________________________________________________\n",
            " Layer (type)                Output Shape              Param #   \n",
            "=================================================================\n",
            " lstm_3 (LSTM)               (None, 30, 64)            442112    \n",
            "                                                                 \n",
            " lstm_4 (LSTM)               (None, 30, 128)           98816     \n",
            "                                                                 \n",
            " lstm_5 (LSTM)               (None, 64)                49408     \n",
            "                                                                 \n",
            " dense_3 (Dense)             (None, 64)                4160      \n",
            "                                                                 \n",
            " dense_4 (Dense)             (None, 32)                2080      \n",
            "                                                                 \n",
            " dense_5 (Dense)             (None, 3)                 99        \n",
            "                                                                 \n",
            "=================================================================\n",
            "Total params: 596,675\n",
            "Trainable params: 596,675\n",
            "Non-trainable params: 0\n",
            "_________________________________________________________________\n"
          ]
        }
      ]
    },
    {
      "cell_type": "markdown",
      "source": [],
      "metadata": {
        "id": "zoQkygKuYGTW"
      }
    },
    {
      "cell_type": "markdown",
      "source": [
        "# Make predictions\n"
      ],
      "metadata": {
        "id": "4sSuB0PMCkaK"
      }
    },
    {
      "cell_type": "code",
      "source": [
        "res = model.predict(x_test)\n",
        "res"
      ],
      "metadata": {
        "colab": {
          "base_uri": "https://localhost:8080/"
        },
        "id": "Zo1nYyb6ZfDR",
        "outputId": "511577fd-90ae-4b66-9482-4e5647f0e3f0"
      },
      "execution_count": 65,
      "outputs": [
        {
          "output_type": "stream",
          "name": "stdout",
          "text": [
            "1/1 [==============================] - 1s 501ms/step\n"
          ]
        },
        {
          "output_type": "execute_result",
          "data": {
            "text/plain": [
              "array([[9.9971920e-01, 2.7988417e-04, 1.0052651e-06],\n",
              "       [1.0572426e-05, 1.9257463e-05, 9.9997020e-01],\n",
              "       [2.5650161e-08, 2.0012005e-06, 9.9999797e-01],\n",
              "       [5.2212208e-09, 7.9947517e-07, 9.9999917e-01],\n",
              "       [5.1239941e-12, 9.9993193e-01, 6.8030422e-05]], dtype=float32)"
            ]
          },
          "metadata": {},
          "execution_count": 65
        }
      ]
    },
    {
      "cell_type": "code",
      "source": [
        "np.sum(res[0])"
      ],
      "metadata": {
        "colab": {
          "base_uri": "https://localhost:8080/"
        },
        "id": "M6yK6LGnZxTx",
        "outputId": "9d080e83-c684-4459-f7e9-da512ef465c9"
      },
      "execution_count": 66,
      "outputs": [
        {
          "output_type": "execute_result",
          "data": {
            "text/plain": [
              "1.0000001"
            ]
          },
          "metadata": {},
          "execution_count": 66
        }
      ]
    },
    {
      "cell_type": "code",
      "source": [
        "for i in range(5):\n",
        "  print(actions[np.argmax(res[i])])\n"
      ],
      "metadata": {
        "colab": {
          "base_uri": "https://localhost:8080/"
        },
        "id": "-bG7MMQubR5-",
        "outputId": "78a7f965-4d64-4509-8841-45ae66535798"
      },
      "execution_count": 68,
      "outputs": [
        {
          "output_type": "stream",
          "name": "stdout",
          "text": [
            "hello\n",
            "iloveyou\n",
            "iloveyou\n",
            "iloveyou\n",
            "thanks\n"
          ]
        }
      ]
    },
    {
      "cell_type": "code",
      "source": [
        "for i in range(5):\n",
        "  print(actions[np.argmax(y_test[i])])\n"
      ],
      "metadata": {
        "colab": {
          "base_uri": "https://localhost:8080/"
        },
        "id": "EHNh6aPzbfW7",
        "outputId": "e8f7c60a-9d25-4c40-a243-4b17366597c7"
      },
      "execution_count": 69,
      "outputs": [
        {
          "output_type": "stream",
          "name": "stdout",
          "text": [
            "hello\n",
            "iloveyou\n",
            "iloveyou\n",
            "iloveyou\n",
            "thanks\n"
          ]
        }
      ]
    },
    {
      "cell_type": "markdown",
      "source": [
        "#Saving our weights"
      ],
      "metadata": {
        "id": "GpzD5-rFhJni"
      }
    },
    {
      "cell_type": "code",
      "source": [
        "#saving it onto my local machine\n",
        "import pickle\n",
        "pickle.dump(model, open('model.pkl', 'wb'))"
      ],
      "metadata": {
        "id": "G4ZkM1ZMd9RR"
      },
      "execution_count": 83,
      "outputs": []
    },
    {
      "cell_type": "code",
      "source": [
        "model.save('action.h5')"
      ],
      "metadata": {
        "id": "yo30fD4khHev"
      },
      "execution_count": 70,
      "outputs": []
    },
    {
      "cell_type": "code",
      "source": [
        "#del model\n",
        "#model = model_load('action.h5')"
      ],
      "metadata": {
        "colab": {
          "base_uri": "https://localhost:8080/",
          "height": 187
        },
        "id": "1yAzjPalha7X",
        "outputId": "f675efa7-bf70-4205-953d-b77b0bc2e59c"
      },
      "execution_count": 71,
      "outputs": [
        {
          "output_type": "error",
          "ename": "NameError",
          "evalue": "ignored",
          "traceback": [
            "\u001b[0;31m---------------------------------------------------------------------------\u001b[0m",
            "\u001b[0;31mNameError\u001b[0m                                 Traceback (most recent call last)",
            "\u001b[0;32m<ipython-input-71-b7076702c1c8>\u001b[0m in \u001b[0;36m<module>\u001b[0;34m\u001b[0m\n\u001b[1;32m      1\u001b[0m \u001b[0;31m#del model\u001b[0m\u001b[0;34m\u001b[0m\u001b[0;34m\u001b[0m\u001b[0;34m\u001b[0m\u001b[0m\n\u001b[0;32m----> 2\u001b[0;31m \u001b[0mmodel\u001b[0m \u001b[0;34m=\u001b[0m \u001b[0mmodel_load\u001b[0m\u001b[0;34m(\u001b[0m\u001b[0;34m'action.h5'\u001b[0m\u001b[0;34m)\u001b[0m\u001b[0;34m\u001b[0m\u001b[0;34m\u001b[0m\u001b[0m\n\u001b[0m",
            "\u001b[0;31mNameError\u001b[0m: name 'model_load' is not defined"
          ]
        }
      ]
    },
    {
      "cell_type": "code",
      "source": [
        "model.load_weights('action.h5')"
      ],
      "metadata": {
        "id": "v6GLdJTmhkTn"
      },
      "execution_count": 72,
      "outputs": []
    },
    {
      "cell_type": "markdown",
      "source": [
        "# Evaluation using confusion matrix"
      ],
      "metadata": {
        "id": "pOFPdywkCk96"
      }
    },
    {
      "cell_type": "code",
      "source": [
        "from sklearn.metrics import multilabel_confusion_matrix, accuracy_score"
      ],
      "metadata": {
        "id": "ZcW-MDsbjKVA"
      },
      "execution_count": 73,
      "outputs": []
    },
    {
      "cell_type": "code",
      "source": [
        "yhat = model.predict(x_train)"
      ],
      "metadata": {
        "colab": {
          "base_uri": "https://localhost:8080/"
        },
        "id": "IXieo7N4jOsI",
        "outputId": "eb188638-2310-409c-a58f-bcc683d0ad69"
      },
      "execution_count": 79,
      "outputs": [
        {
          "output_type": "stream",
          "name": "stdout",
          "text": [
            "3/3 [==============================] - 0s 48ms/step\n"
          ]
        }
      ]
    },
    {
      "cell_type": "code",
      "source": [
        "ytrue = np.argmax(y_train, axis=1).tolist()\n",
        "yhat = np.argmax(yhat, axis=1).tolist()"
      ],
      "metadata": {
        "id": "6swmSMnQjWL3"
      },
      "execution_count": 80,
      "outputs": []
    },
    {
      "cell_type": "code",
      "source": [
        "multilabel_confusion_matrix(ytrue, yhat)"
      ],
      "metadata": {
        "colab": {
          "base_uri": "https://localhost:8080/"
        },
        "id": "cQcEhGyGjdvf",
        "outputId": "0135d9e0-7b8c-4e37-f07d-9fe2f5651442"
      },
      "execution_count": 81,
      "outputs": [
        {
          "output_type": "execute_result",
          "data": {
            "text/plain": [
              "array([[[56,  0],\n",
              "        [ 0, 29]],\n",
              "\n",
              "       [[56,  0],\n",
              "        [ 0, 29]],\n",
              "\n",
              "       [[58,  0],\n",
              "        [ 0, 27]]])"
            ]
          },
          "metadata": {},
          "execution_count": 81
        }
      ]
    },
    {
      "cell_type": "code",
      "source": [
        "accuracy_score(ytrue,yhat)"
      ],
      "metadata": {
        "colab": {
          "base_uri": "https://localhost:8080/"
        },
        "id": "NeZmNMf5jtzS",
        "outputId": "addbda09-19b4-4215-ea45-f757424b4248"
      },
      "execution_count": 82,
      "outputs": [
        {
          "output_type": "execute_result",
          "data": {
            "text/plain": [
              "1.0"
            ]
          },
          "metadata": {},
          "execution_count": 82
        }
      ]
    }
  ]
}